{
  "nbformat": 4,
  "nbformat_minor": 0,
  "metadata": {
    "colab": {
      "name": "Euler-problem-1.ipynb",
      "provenance": [],
      "collapsed_sections": [
        "BNi6ka5b3-4f",
        "mMoYQzGb1ug7",
        "qElJvv4v8k2V",
        "_EnZ7LaADhTG",
        "58-Ua6Y4LnHH",
        "MRudPyrAcVKG"
      ],
      "authorship_tag": "ABX9TyNtdXJugYbNayzBvtTQqwyb",
      "include_colab_link": true
    },
    "kernelspec": {
      "name": "python3",
      "display_name": "Python 3"
    }
  },
  "cells": [
    {
      "cell_type": "markdown",
      "metadata": {
        "id": "view-in-github",
        "colab_type": "text"
      },
      "source": [
        "<a href=\"https://colab.research.google.com/github/gideonjeffrey/Project-Euler-First-100/blob/main/Euler_problem_1.ipynb\" target=\"_parent\"><img src=\"https://colab.research.google.com/assets/colab-badge.svg\" alt=\"Open In Colab\"/></a>"
      ]
    },
    {
      "cell_type": "markdown",
      "metadata": {
        "id": "CQLu3iEIm47F"
      },
      "source": [
        "#Problem 1 - Multiples of 3 and 5\n",
        "\n",
        ">If we list all the natural numbers below 10 that are multiples of 3 or 5, we get 3, 5, 6 and 9. The sum of these multiples is 23.\n",
        ">\n",
        ">Find the sum of all the multiples of 3 or 5 below 1000.\n",
        "\n",
        "*View on the Project Euler site [here](https://projecteuler.net/problem=1 \"Title\")*\n",
        "\n",
        "\n",
        "**Before going any further: try to solve the problem yourself!**  Reading my solutions won't give you the joy of figuring out the right answer without any assistance.  And if you work on it yourself, you might well come up with a *better* solution! However, I do present my solutions in a way that will help you understand the problem and *why* the solution code works.  If you understand both the math and the code for each problem, you'll have the foundation to tackle larger and more difficult problems, both in Project Euler and elsewhere. So if you're truly stuck, feel free to read on, and we'll figure it out together!\n",
        "\n",
        "\n",
        "\n",
        "\n"
      ]
    },
    {
      "cell_type": "markdown",
      "metadata": {
        "id": "BNi6ka5b3-4f"
      },
      "source": [
        "### First solution - use a `while` loop\n",
        "\n"
      ]
    },
    {
      "cell_type": "markdown",
      "metadata": {
        "id": "6LMoZaekMz3P"
      },
      "source": [
        "In school I was taught that the natural numbers consisted of 0 and all the postive integers - 0, 1, 2, 3, and on to infinity.  It turns out some people define the natural numbers as being *only* the positive integers, excluding 0!  Fortunately, zeroing in on what the prompt means by \"natural numbers\" doesn't matter for the purposes of this problem - 0 isn't a multiple of either 3 or 5, so we can ignore it.  \n",
        "\n",
        "If you were to write out the steps needed to solve Problem 1 with a Python script, it might look like this:\n",
        "\n",
        "* Create a variable called `answer` and set it to 0 initially.\n",
        "* Starting at the number 1, check whether it is divisible by either 3 or 5.  \n",
        "  * If it *is*, add it to `answer`.\n",
        "  * If it *isn't*, ignore it.\n",
        "* Go to the next number, and repeat the above.\n",
        "* Keep on going until we've done this for 999, then *stop* - because we're only summing multiples of three or five *below* 1000.  The current value of `answer` will be the solution to the problem.\n",
        "\n",
        "Being able to code helps wonderfully with a procedure like this where you have to do something easy, but do it a huge number of times.  Interestingly, however, the method we've just sketched out is neither the only way to solve Problem 1 nor the fastest way to do it.  We'll get to that later.\n",
        "\n",
        "First, however, let's see if we can turn the above steps into code.  The method we've sketched out requires *iteration* - performing the same exact procedure many times in a row until the desired result is achieved. One easy way to do this in Python is to use a `while` loop:"
      ]
    },
    {
      "cell_type": "code",
      "metadata": {
        "id": "66VUKuoZmymR"
      },
      "source": [
        "answer = 0\n",
        "current_number = 1\n",
        "while current_number < 1000:\n",
        "  # do the things\n",
        "  current_number += 1\n",
        "\n",
        "print(answer, \"    Uh oh - we didn't do the things yet!\")"
      ],
      "execution_count": null,
      "outputs": []
    },
    {
      "cell_type": "markdown",
      "metadata": {
        "id": "tylFXYYzyAMs"
      },
      "source": [
        "We set our answer variable equal to zero and another variable, current_number, to 1.  Our code will `#do the things` and then go to the next natural number, 2, and repeat the process all over again.  This will continue until `current_number` goes from 999 to 1000, at which time we'll *stop* doing things, exit the loop, and print the answer.\n",
        "\n",
        "Now to actually `#do the things`.  For each value of `current_number` we need to check whether it is divisible by 3 or divisible by 5.  The easiest way to do this in Python is to use the modulus operator, `%`.  For any integers a and b, `a % b` will return the *remainder* left when you divide a by b:"
      ]
    },
    {
      "cell_type": "code",
      "metadata": {
        "colab": {
          "base_uri": "https://localhost:8080/"
        },
        "id": "XJPdM9-kx_aw",
        "outputId": "ba21a340-602a-441c-f3aa-a7d6629d630e"
      },
      "source": [
        "a = 14\n",
        "b = 5\n",
        "print(a % b)\n",
        "# 5 goes in to 14 two times, with remainder 4."
      ],
      "execution_count": 2,
      "outputs": [
        {
          "output_type": "stream",
          "text": [
            "4\n"
          ],
          "name": "stdout"
        }
      ]
    },
    {
      "cell_type": "markdown",
      "metadata": {
        "id": "sNPeIzowz4JS"
      },
      "source": [
        "The key piece of information we need is that when a is a multiple of b, `a % b` is equal to 0 - there is no remainder left when a is divided by b."
      ]
    },
    {
      "cell_type": "code",
      "metadata": {
        "colab": {
          "base_uri": "https://localhost:8080/"
        },
        "id": "Q_sjNg-I0Qi7",
        "outputId": "8887fe73-6cc5-4a4b-f890-7719d9c1c097"
      },
      "source": [
        "a = 15\n",
        "b = 5\n",
        "print(a % b)"
      ],
      "execution_count": 3,
      "outputs": [
        {
          "output_type": "stream",
          "text": [
            "0\n"
          ],
          "name": "stdout"
        }
      ]
    },
    {
      "cell_type": "markdown",
      "metadata": {
        "id": "wahvYF5_0U4k"
      },
      "source": [
        "So we now know what we need to check - we need to see whether **either** `current_value % 3 == 0` **or** `current_value % 5 == 0`.  If either one is true, then we should add `current_value` to `answer`.  So let's fill in the gaps in our above code:"
      ]
    },
    {
      "cell_type": "code",
      "metadata": {
        "colab": {
          "base_uri": "https://localhost:8080/"
        },
        "id": "sZdXHrQr1Ndu",
        "outputId": "9eb7d8dc-d1ac-41c6-dabf-5f9db4a342f8"
      },
      "source": [
        "answer = 0\n",
        "current_number = 1\n",
        "while current_number < 1000:\n",
        "  if current_number % 3 == 0 or current_number % 5 == 0:\n",
        "    answer += current_number\n",
        "  current_number += 1\n",
        "\n",
        "print(answer)"
      ],
      "execution_count": 4,
      "outputs": [
        {
          "output_type": "stream",
          "text": [
            "233168\n"
          ],
          "name": "stdout"
        }
      ]
    },
    {
      "cell_type": "markdown",
      "metadata": {
        "id": "FMy_OSkf1pXY"
      },
      "source": [
        "Running that code produces 233168 - which is, in fact, the solution!"
      ]
    },
    {
      "cell_type": "markdown",
      "metadata": {
        "id": "mMoYQzGb1ug7"
      },
      "source": [
        "###Second solution - `for` instead of `while`\n",
        "\n"
      ]
    },
    {
      "cell_type": "markdown",
      "metadata": {
        "id": "vDNYdeVwNf4b"
      },
      "source": [
        "As you'd imagine, this is far from the only way to do things.  What if we had started with a Python list containing the integers from 1 to 999, iterated over that list using a `for` loop instead of a `while` loop, and performed the same kinds of steps?  Here's how that could go:\n"
      ]
    },
    {
      "cell_type": "code",
      "metadata": {
        "colab": {
          "base_uri": "https://localhost:8080/"
        },
        "id": "SYF3EYAO2IKm",
        "outputId": "6d653160-13fb-4b00-a7b6-c20888aa779b"
      },
      "source": [
        "numbers = list(range(1, 1000))\n",
        "answer = 0\n",
        "for number in numbers:\n",
        "  if number % 3 == 0 or number % 5 == 0:\n",
        "    answer += number\n",
        "print(answer)"
      ],
      "execution_count": 5,
      "outputs": [
        {
          "output_type": "stream",
          "text": [
            "233168\n"
          ],
          "name": "stdout"
        }
      ]
    },
    {
      "cell_type": "markdown",
      "metadata": {
        "id": "ylc2gkk68Q0y"
      },
      "source": [
        "Same procedure, slightly different implementation."
      ]
    },
    {
      "cell_type": "markdown",
      "metadata": {
        "id": "qElJvv4v8k2V"
      },
      "source": [
        "###Third solution - list comprehension\n"
      ]
    },
    {
      "cell_type": "markdown",
      "metadata": {
        "id": "0-89d6J_Nluk"
      },
      "source": [
        "There's another piece of Python that is perfectly suited to tackle a problem like this: list comprehension. This brilliant feature allows you to compress the logic from the `for` loop above into a single line of code. If you want to learn more, I highly recommend [this introduction over at RealPython](https://realpython.com/list-comprehension-python/ \"Title\").\n",
        "\n",
        "Here we'll use list comprehension to create a list of only the numbers divisible by 3 or 5:"
      ]
    },
    {
      "cell_type": "code",
      "metadata": {
        "colab": {
          "base_uri": "https://localhost:8080/"
        },
        "id": "WfoXYli0-bkD",
        "outputId": "9a1d41f2-5a6f-474a-d844-73e092a7301d"
      },
      "source": [
        "multiples_of_three_and_five = [n for n in range(1, 1000) if n % 3 == 0 or n % 5 == 0]\n",
        "print(multiples_of_three_and_five[0:10]) #show the first 10 integers in the resulting list"
      ],
      "execution_count": null,
      "outputs": [
        {
          "output_type": "stream",
          "text": [
            "[3, 5, 6, 9, 10, 12, 15, 18, 20, 21]\n"
          ],
          "name": "stdout"
        }
      ]
    },
    {
      "cell_type": "markdown",
      "metadata": {
        "id": "Z_3se2YhDCAh"
      },
      "source": [
        "Once we have that list defined, we can simply use the `sum()` function to add all its elements together and get our answer."
      ]
    },
    {
      "cell_type": "code",
      "metadata": {
        "colab": {
          "base_uri": "https://localhost:8080/"
        },
        "id": "KO0xHl4bDPiT",
        "outputId": "6b63a0ad-3ffc-4d96-ec9f-7c1bdeb3eed0"
      },
      "source": [
        "print(sum(multiples_of_three_and_five))"
      ],
      "execution_count": null,
      "outputs": [
        {
          "output_type": "execute_result",
          "data": {
            "text/plain": [
              "233168"
            ]
          },
          "metadata": {
            "tags": []
          },
          "execution_count": 15
        }
      ]
    },
    {
      "cell_type": "markdown",
      "metadata": {
        "id": "_EnZ7LaADhTG"
      },
      "source": [
        "### Comparing the speed of the first three solutions\n",
        "\n"
      ]
    },
    {
      "cell_type": "markdown",
      "metadata": {
        "id": "vROiYFl0N97a"
      },
      "source": [
        "One thing you might wonder, having explored all three solutions so far, is which one is *fastest*.  The more efficient our solution method is, the better.  **Finding an efficient solution becomes increasingly important as Project Euler problems get harder.**  Every Project Euler problem *can* be solved algorithmically in under a minute. But for some problems, you can design an algorithm that *would* get you the solution, but only after running for hours, days, or years!  All three of our solution methods above are fast enough that it doesn't matter this time, but trust me, it will matter down the road as you tackle more difficult challenges.  So let's find out: which of these really *is* the fastest?\n",
        "\n",
        "We can test this by using Python's nifty built-in [timeit](https://docs.python.org/3/library/timeit.html \"Title\") module. Let's rewrite each of our solution methods as functions and compare their runtimes against each other: "
      ]
    },
    {
      "cell_type": "code",
      "metadata": {
        "colab": {
          "base_uri": "https://localhost:8080/"
        },
        "id": "DJzd6Mx7GJb3",
        "outputId": "77ea588f-6ca5-4145-dab1-c2e3c83cd4ec"
      },
      "source": [
        "import timeit\n",
        "\n",
        "def first_solution():\n",
        "  answer = 0\n",
        "  current_number = 1\n",
        "  while current_number < 1000:\n",
        "    if current_number % 3 == 0 or current_number % 5 == 0:\n",
        "      answer += current_number\n",
        "    current_number += 1\n",
        "  return answer\n",
        "\n",
        "print (\"Time to compute first solution:\", timeit.timeit(first_solution, \n",
        "                     number = 1000))\n",
        "\n",
        "def second_solution():\n",
        "  answer = 0\n",
        "  numbers = list(range(1, 1000))\n",
        "  for number in numbers:\n",
        "    if number % 3 == 0 or number % 5 == 0:\n",
        "      answer += number\n",
        "  return answer\n",
        "\n",
        "\n",
        "print (\"Time to compute second solution:\", timeit.timeit(second_solution,\n",
        "                     number = 1000))\n",
        "\n",
        "def third_solution():\n",
        "  multiples_of_three_and_five = [n for n in range(1, 1000) if n % 3 == 0 or n % 5 == 0]\n",
        "  return sum(multiples_of_three_and_five)\n",
        "\n",
        "print (\"Time to compute third solution:\", timeit.timeit(third_solution, \n",
        "                     number = 1000))"
      ],
      "execution_count": null,
      "outputs": [
        {
          "output_type": "stream",
          "text": [
            "Time to compute first solution: 0.13640244599992002\n",
            "Time to compute second solution: 0.11840720999953191\n",
            "Time to compute third solution: 0.10157795600025565\n"
          ],
          "name": "stdout"
        }
      ]
    },
    {
      "cell_type": "markdown",
      "metadata": {
        "id": "nGw5L78DKY7F"
      },
      "source": [
        "If you run the code above, all three solution methods get tested 1000 times.  You'll see that the `while` loop is slowest, the `for` loop is better, and the list comprehension is fastest of all, taking only about three-quarters as long as the first solution when I test it.\n",
        "\n",
        "So maybe we've learned something: when you can solve a problem using list comprehension instead of a `while` loop, list comprehension is a better choice.  But you might think that 3/4 as fast isn't *that* much faster.  Can we do better?"
      ]
    },
    {
      "cell_type": "markdown",
      "metadata": {
        "id": "58-Ua6Y4LnHH"
      },
      "source": [
        "###Fourth solution: a little algebra goes a long way\n",
        "\n"
      ]
    },
    {
      "cell_type": "markdown",
      "metadata": {
        "id": "QkWRMmUlUVK-"
      },
      "source": [
        "There are two things that help you create more efficient algorithms to solve Project Euler problems: more coding knowledge, and more time working on the mathematics of the problem.  \n",
        "\n",
        "What if we took a step back for a second and looked at just the sequence of numbers between 1 and 999 that are multiples of 3:\n",
        "```\n",
        "3, 6, 9, 12, ... 990, 993, 996, 999\n",
        "```\n",
        "\n",
        "Adding all those terms together seems like a huge chore.\n",
        "```\n",
        "(3 + 6 + 9 + 12 + ... + 990 + 993 + 996 + 999)\n",
        "```\n",
        "But remember, all of these numbers are multiples of 3!  So we can rewrite that super-long sum as:\n",
        "```\n",
        "3 x (1 + 2 + 3 + 4 + ... + 330 + 331 + 332 + 333)\n",
        "```\n",
        "You might think this doesn't help much - we've just got 3 times a sum which would still be brutal to work out by hand.  But there's a short cut!  There's a story, [perhaps apocryphal](https://www.americanscientist.org/article/gausss-day-of-reckoning \"Title\"), that the brilliant mathematician Gauss used a clever trick to solve a problem like this when he was a schoolboy.  Look what happens if we write the sum twice, once backward and once forward:\n",
        "```\n",
        " 1  +  2  +  3  +  4  + ... + 330 + 331 + 332 + 333\n",
        "\n",
        "333 + 332 + 331 + 330 + ... +  4  +  3  +  2  +  1\n",
        "```\n",
        "\n",
        "Now what if we were to \"combine\" the top and bottom sequences by adding the top term to the bottom term?\n",
        "```\n",
        "334 + 334 + 334 + 334 + ... + 334 + 334 + 334 + 334\n",
        "```\n",
        "Well, that *does* make life easier - it's just 334 added to itself 333 times, or 334 x 333!  But that's the result of adding up *two* copies of the sequence from 1 to 333; so to get the sum of *one* copy of that sequence, we can divide everything by 2.\n",
        "```\n",
        "1 + 2 + 3 + 4 + ... + 330 + 331 + 332 + 333 = (333 x 334)/2 = 55611\n",
        "```\n",
        "That, it turns out, is how you calculate the sum of the natural numbers from 1 to n for any n: it's just (n x (n + 1))/2.\n",
        "\n",
        "Let's put this all together.\n",
        "```\n",
        "3 + 6 + 9 + 12 + ... + 990 + 993 + 996 + 999\n",
        " =\n",
        "3 x (1 + 2 + 3 + 4 + ... + 330 + 331 + 332 + 333)\n",
        " = \n",
        "3 x (333 x 334)/2\n",
        " = \n",
        "3 x 55611 = 166833\n",
        "```\n",
        "\n",
        "\n",
        "\n",
        "\n"
      ]
    },
    {
      "cell_type": "markdown",
      "metadata": {
        "id": "TZL4f2kYVbaF"
      },
      "source": [
        "Incredible.  That takes care of multiples of 3 - we can tackle multiples of 5 the same way!  The highest multiple of 5 that's less than 1000 is 995.  So we can calculate the sum of the multiples of 5 between 1 and 999 like this:\n",
        "\n",
        "```\n",
        "5 + 10 + 15 + 20 + ... + 980 + 985 + 990 + 995\n",
        " =\n",
        "5 x (1 + 2 + 3 + 4 + ... + 196 + 197 + 198 + 199)\n",
        " = \n",
        "5 x (199 x 200)/2\n",
        " = \n",
        "5 x 19900 = 99500\n",
        "```\n"
      ]
    },
    {
      "cell_type": "markdown",
      "metadata": {
        "id": "SijkWaghWPNV"
      },
      "source": [
        "At this point, you might think \"we're done!  We just have to add 99500 to 166833 and we have our answer.\"  But you'll quickly realize that's wrong - it's 266333, and the correct answer is 233168.  Why?\n",
        "\n",
        "If you think about it, you'll quickly remember that some numbers are multiples of *both* 5 and 3.  Take 15, for example - it appears in the sequence of multiples of 5 and the sequence of multiples of 3.  So if we just add the sums of both sequences together, we're counting 15 twice.  The same goes for 30, 45, 60, and so on.  \n",
        "\n",
        "So how do we solve this?  By *subtracting* from our total so far the sum of every natural number between 1 and 999 that's a multiple of 3 *and* 5 - in other words, a multiple of 15.  Fortunately we know exactly how to calculate that sum by this point!  999 divided by 15 is 66.6, so the highest multiple of 15 that's *less* than 999 will be 66 times 15, or 990.  So here we go again:\n",
        "\n",
        "```\n",
        "15 + 30 + 45 + 60 + ... + 945 + 960 + 975 + 990\n",
        " =\n",
        "15 x (1 + 2 + 3 + 4 + ... + 63 + 64 + 65 + 66)\n",
        " = \n",
        "15 x (66 x 67)/2\n",
        " = \n",
        "15 x 2211 = 33165\n",
        "```"
      ]
    },
    {
      "cell_type": "markdown",
      "metadata": {
        "id": "TGWyWVe2YlWb"
      },
      "source": [
        "Let's subtract that from our previous total.  I've put the calculation in a code block so you can run it yourself:"
      ]
    },
    {
      "cell_type": "code",
      "metadata": {
        "colab": {
          "base_uri": "https://localhost:8080/"
        },
        "id": "248Ba3I4ZXW7",
        "outputId": "ef7dd242-d29a-4160-b73d-d1ee6724e396"
      },
      "source": [
        "print(166833 + 99500 - 33165)"
      ],
      "execution_count": null,
      "outputs": [
        {
          "output_type": "stream",
          "text": [
            "233168\n"
          ],
          "name": "stdout"
        }
      ]
    },
    {
      "cell_type": "markdown",
      "metadata": {
        "id": "tJ1qpyFEZlva"
      },
      "source": [
        "So, using just simple algebra, it turns out we could have solved Problem 1 by hand.  But what if we did it by code instead?\n",
        "\n"
      ]
    },
    {
      "cell_type": "code",
      "metadata": {
        "colab": {
          "base_uri": "https://localhost:8080/"
        },
        "id": "6wJoWbmNZ7QO",
        "outputId": "7cd4e5c5-270b-41c9-994f-ab06ac7826a8"
      },
      "source": [
        "mult_of_three = 3 * (333 * 334 / 2)\n",
        "mult_of_five = 5 * (199 * 200 / 2)\n",
        "mult_of_fifteen = 15 * (66 * 67 /2)\n",
        "answer = mult_of_three + mult_of_five - mult_of_fifteen\n",
        "print(answer)"
      ],
      "execution_count": null,
      "outputs": [
        {
          "output_type": "stream",
          "text": [
            "233168.0\n"
          ],
          "name": "stdout"
        }
      ]
    },
    {
      "cell_type": "markdown",
      "metadata": {
        "id": "0Q63MARcafb6"
      },
      "source": [
        "Not only is this simple to do in Python, but it turns out that it's *much* faster than the iteration-based methods we've used so far.  We can rewrite the above code as a function and test it using `timeit` to see that:"
      ]
    },
    {
      "cell_type": "code",
      "metadata": {
        "colab": {
          "base_uri": "https://localhost:8080/"
        },
        "id": "w4k7JDDeay2d",
        "outputId": "702bacb5-de37-4db6-ae2e-660b0b0b888b"
      },
      "source": [
        "import timeit\n",
        "\n",
        "def fourth_solution():\n",
        "  mult_of_three = 3 * (333 * 334 / 2)\n",
        "  mult_of_five = 5 * (199 * 200 / 2)\n",
        "  mult_of_fifteen = 15 * (66 * 67 /2)\n",
        "  answer = mult_of_three + mult_of_five - mult_of_fifteen\n",
        "  return answer\n",
        "\n",
        "print (\"Time to compute fourth solution:\", timeit.timeit(fourth_solution, \n",
        "                     number = 1000))"
      ],
      "execution_count": 1,
      "outputs": [
        {
          "output_type": "stream",
          "text": [
            "Time to compute fourth solution: 0.00013673999998786712\n"
          ],
          "name": "stdout"
        }
      ]
    },
    {
      "cell_type": "markdown",
      "metadata": {
        "id": "N6yeX-NqbjYF"
      },
      "source": [
        "This isn't just faster than our first three solutions - when I run it, it's *more than a hundred times* faster.  That doesn't matter as much here, where every solution we've tested takes a mere fraction of a second for Python to calculate.  But, as you might guess, it might matter *a lot* when the problems and the calculations involved get bigger and badder.\n",
        "\n"
      ]
    },
    {
      "cell_type": "markdown",
      "metadata": {
        "id": "MRudPyrAcVKG"
      },
      "source": [
        "###Lessons learned\n"
      ]
    },
    {
      "cell_type": "markdown",
      "metadata": {
        "id": "PRxtX52PCrPZ"
      },
      "source": [
        "\n",
        "(1) The more you understand Python and the wide range of capabilities it has, the more insight you'll have into how to solve Project Euler problems more efficiently.  But also:\n",
        "\n",
        "(2) The more time you spend working a bit on the mathematics of a Project Euler problem, the more likely you are to find the *best* way to solve it."
      ]
    }
  ]
}